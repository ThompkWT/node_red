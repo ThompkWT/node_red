{
 "cells": [
  {
   "cell_type": "markdown",
   "metadata": {},
   "source": [
    "### [install mqtt software](http://www.steves-internet-guide.com/into-mqtt-python-client/)\n",
    "### [work with mqtt tutorial](https://mntolia.com/mqtt-python-with-paho-mqtt-client/)\n",
    "### [Eclipse Main Site](https://iot.eclipse.org/getting-started/#resources)"
   ]
  },
  {
   "cell_type": "markdown",
   "metadata": {},
   "source": []
  },
  {
   "cell_type": "code",
   "execution_count": 2,
   "metadata": {},
   "outputs": [],
   "source": [
    "import paho.mqtt.client as mqtt\n",
    "import time"
   ]
  },
  {
   "cell_type": "markdown",
   "metadata": {},
   "source": [
    "# Simple Test Setup"
   ]
  },
  {
   "cell_type": "code",
   "execution_count": 3,
   "metadata": {},
   "outputs": [],
   "source": [
    "\n",
    "def on_connect(client, userdata, flags, rc):\n",
    "   print(\"*** Connected With Result Code: {}\".format(rc))\n",
    "\n",
    "def on_disconnect(client, userdata, rc):\n",
    "   print(\"****Client Got Disconnected\")\n",
    "\n",
    "def on_message(client, userdata, message):\n",
    "    print(\"message received from others: \" , \"message topic=\",message.topic, 'message:', str(message.payload.decode(\"utf-8\")))\n",
    "    print(\"message topic=\",message.topic)\n",
    "    print(\"message qos=\",message.qos)\n",
    "    print(\"message retain flag=\",message.retain)\n",
    "\n",
    "def on_message_from_kitchen(client, userdata, message):\n",
    "   print(\"Message Recieved from Kitchen: \"+message.payload.decode())\n",
    "\n",
    "def on_message_from_bedroom(client, userdata, message):\n",
    "   print(\"Message Recieved from Bedroom: \"+message.payload.decode())\n"
   ]
  },
  {
   "cell_type": "code",
   "execution_count": 4,
   "metadata": {},
   "outputs": [
    {
     "name": "stdout",
     "output_type": "stream",
     "text": [
      "Publishing message to topic KitchenTopic\n",
      "Publishing message to topic BedroomTopic\n",
      "Publishing message to topic house/bulbs/bulb1\n",
      "*** Connected With Result Code: 0\n",
      "Message Recieved from Kitchen: Start Oven\n",
      "Message Recieved from Bedroom: Lights On\n",
      "message received from others:  message topic= house/bulbs/bulb1 message: OFF\n",
      "message topic= house/bulbs/bulb1\n",
      "message qos= 0\n",
      "message retain flag= 0\n",
      "****Client Got Disconnected\n"
     ]
    },
    {
     "data": {
      "text/plain": [
       "0"
      ]
     },
     "execution_count": 4,
     "metadata": {},
     "output_type": "execute_result"
    }
   ],
   "source": [
    "# broker_address = 'mqtt.eclipse.org'\n",
    "# broker_address = 'tiltrpi4.local' # tilt-Macmini\n",
    "broker_address = 'tilt-Macmini.local'\n",
    "# broker_address = 'tilt-Macmini.local'\n",
    "# print(\"creating new instance\")\n",
    "client = mqtt.Client(\"P1\") #create new instance\n",
    "\n",
    "client.on_connect = on_connect\n",
    "client.on_disconnect = on_disconnect\n",
    "\n",
    "client.on_message=on_message #attach function to callback\n",
    "client.message_callback_add(\"KitchenTopic\", on_message_from_kitchen)\n",
    "client.message_callback_add(\"BedroomTopic\", on_message_from_bedroom)\n",
    "\n",
    "\n",
    "# print(\"connecting to broker\")\n",
    "\n",
    "client.connect(broker_address) #connect to broker\n",
    "\n",
    "client.loop_start() #start the loop\n",
    "\n",
    "# print(\"Subscribing to topic\",\"house/bulbs/bulb1\")\n",
    "client.subscribe(\"house/bulbs/bulb1\")\n",
    "client.subscribe(\"KitchenTopic\", qos=1)\n",
    "client.subscribe(\"BedroomTopic\", qos=1)\n",
    "\n",
    "# print(\"Publishing message to topic\",\"house/bulbs/bulb1\")\n",
    "# client.publish(\"house/bulbs/bulb1\",\"OFF\")\n",
    "\n",
    "\n",
    "print(\"Publishing message to topic\",\"KitchenTopic\")\n",
    "client.publish(\"KitchenTopic\",\"Start Oven\")\n",
    "\n",
    "print(\"Publishing message to topic\",\"BedroomTopic\")\n",
    "client.publish(\"BedroomTopic\",\"Lights On\")\n",
    "\n",
    "print(\"Publishing message to topic\",\"house/bulbs/bulb1\")\n",
    "client.publish(\"house/bulbs/bulb1\",\"OFF\")\n",
    "\n",
    "\n",
    "time.sleep(10) # wait\n",
    "client.loop_stop() #stop the loop\n",
    "client.disconnect()"
   ]
  },
  {
   "cell_type": "markdown",
   "metadata": {},
   "source": [
    "## Send Receive JSON\n",
    "[Script Orign](http://www.steves-internet-guide.com/send-json-data-mqtt-python/)"
   ]
  },
  {
   "cell_type": "code",
   "execution_count": 5,
   "metadata": {},
   "outputs": [
    {
     "name": "stdout",
     "output_type": "stream",
     "text": [
      "{'broker1': 'tiltrpi4.local', 'broker2': 'test.mosquitto.org', 'broker3': 'mqtt.eclipse.org', 'broker4': 'tilt-Macmini.local'}\n"
     ]
    }
   ],
   "source": [
    "import json\n",
    "brokers_out={\"broker1\":\"tiltrpi4.local\",\n",
    "         \"broker2\":\"test.mosquitto.org\",\n",
    "         \"broker3\":\"mqtt.eclipse.org\",\n",
    "        \"broker4\":\"tilt-Macmini.local\",\n",
    "         }\n",
    "print(brokers_out)"
   ]
  },
  {
   "cell_type": "code",
   "execution_count": 6,
   "metadata": {},
   "outputs": [
    {
     "name": "stdout",
     "output_type": "stream",
     "text": [
      "\n",
      "Converting to JSON\n",
      "\n",
      "data -type  <class 'str'>\n",
      "data out = {\"broker1\": \"tiltrpi4.local\", \"broker2\": \"test.mosquitto.org\", \"broker3\": \"mqtt.eclipse.org\", \"broker4\": \"tilt-Macmini.local\"}\n"
     ]
    }
   ],
   "source": [
    "data_out=json.dumps(brokers_out)# encode oject to JSON\n",
    "print(\"\\nConverting to JSON\\n\")\n",
    "print (\"data -type \",type(data_out))\n",
    "print (\"data out =\",data_out)"
   ]
  },
  {
   "cell_type": "code",
   "execution_count": 7,
   "metadata": {},
   "outputs": [],
   "source": [
    "## It just a string now, just push it around as needed with regular calls\n",
    "''' add mqqtt calls\n",
    "'''\n",
    "data_in = data_out"
   ]
  },
  {
   "cell_type": "code",
   "execution_count": 8,
   "metadata": {},
   "outputs": [
    {
     "name": "stdout",
     "output_type": "stream",
     "text": [
      "brokers_in is a  <class 'dict'>\n",
      "\n",
      "\n",
      "broker 4 address =  tilt-Macmini.local\n"
     ]
    }
   ],
   "source": [
    "brokers_in=json.loads(data_in) #convert incoming JSON to object\n",
    "print(\"brokers_in is a \",type(brokers_in))\n",
    "print(\"\\n\\nbroker 4 address = \",brokers_in[\"broker4\"])\n"
   ]
  },
  {
   "cell_type": "code",
   "execution_count": null,
   "metadata": {},
   "outputs": [],
   "source": []
  },
  {
   "cell_type": "code",
   "execution_count": null,
   "metadata": {},
   "outputs": [],
   "source": []
  }
 ],
 "metadata": {
  "kernelspec": {
   "display_name": "Python 3",
   "language": "python",
   "name": "python3"
  },
  "language_info": {
   "codemirror_mode": {
    "name": "ipython",
    "version": 3
   },
   "file_extension": ".py",
   "mimetype": "text/x-python",
   "name": "python",
   "nbconvert_exporter": "python",
   "pygments_lexer": "ipython3",
   "version": "3.7.9"
  },
  "toc": {
   "base_numbering": 1,
   "nav_menu": {},
   "number_sections": true,
   "sideBar": true,
   "skip_h1_title": false,
   "title_cell": "Table of Contents",
   "title_sidebar": "Contents",
   "toc_cell": false,
   "toc_position": {},
   "toc_section_display": true,
   "toc_window_display": false
  },
  "varInspector": {
   "cols": {
    "lenName": 16,
    "lenType": 16,
    "lenVar": 40
   },
   "kernels_config": {
    "python": {
     "delete_cmd_postfix": "",
     "delete_cmd_prefix": "del ",
     "library": "var_list.py",
     "varRefreshCmd": "print(var_dic_list())"
    },
    "r": {
     "delete_cmd_postfix": ") ",
     "delete_cmd_prefix": "rm(",
     "library": "var_list.r",
     "varRefreshCmd": "cat(var_dic_list()) "
    }
   },
   "types_to_exclude": [
    "module",
    "function",
    "builtin_function_or_method",
    "instance",
    "_Feature"
   ],
   "window_display": false
  }
 },
 "nbformat": 4,
 "nbformat_minor": 4
}
